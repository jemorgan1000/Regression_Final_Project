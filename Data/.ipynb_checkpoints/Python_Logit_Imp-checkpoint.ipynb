{
 "cells": [
  {
   "cell_type": "code",
   "execution_count": 1,
   "metadata": {},
   "outputs": [],
   "source": [
    "import pandas as pd"
   ]
  },
  {
   "cell_type": "code",
   "execution_count": 2,
   "metadata": {},
   "outputs": [
    {
     "data": {
      "text/html": [
       "<div>\n",
       "<style scoped>\n",
       "    .dataframe tbody tr th:only-of-type {\n",
       "        vertical-align: middle;\n",
       "    }\n",
       "\n",
       "    .dataframe tbody tr th {\n",
       "        vertical-align: top;\n",
       "    }\n",
       "\n",
       "    .dataframe thead th {\n",
       "        text-align: right;\n",
       "    }\n",
       "</style>\n",
       "<table border=\"1\" class=\"dataframe\">\n",
       "  <thead>\n",
       "    <tr style=\"text-align: right;\">\n",
       "      <th></th>\n",
       "      <th>age</th>\n",
       "      <th>latitude</th>\n",
       "      <th>longitude</th>\n",
       "      <th>chronic_disease_binary_N</th>\n",
       "      <th>chronic_disease_binary_Y</th>\n",
       "      <th>sex_female</th>\n",
       "      <th>country_Algeria</th>\n",
       "      <th>country_Australia</th>\n",
       "      <th>country_Brazil</th>\n",
       "      <th>country_France</th>\n",
       "      <th>...</th>\n",
       "      <th>country_Romania</th>\n",
       "      <th>country_San Marino</th>\n",
       "      <th>country_Singapore</th>\n",
       "      <th>country_South Korea</th>\n",
       "      <th>country_Switzerland</th>\n",
       "      <th>country_Thailand</th>\n",
       "      <th>country_United States</th>\n",
       "      <th>country_Vietnam</th>\n",
       "      <th>country_Zimbabwe</th>\n",
       "      <th>outcome_D</th>\n",
       "    </tr>\n",
       "  </thead>\n",
       "  <tbody>\n",
       "    <tr>\n",
       "      <td>0</td>\n",
       "      <td>42</td>\n",
       "      <td>36.826150</td>\n",
       "      <td>101.44370</td>\n",
       "      <td>0</td>\n",
       "      <td>0</td>\n",
       "      <td>0</td>\n",
       "      <td>0</td>\n",
       "      <td>0</td>\n",
       "      <td>0</td>\n",
       "      <td>0</td>\n",
       "      <td>...</td>\n",
       "      <td>0</td>\n",
       "      <td>0</td>\n",
       "      <td>0</td>\n",
       "      <td>0</td>\n",
       "      <td>0</td>\n",
       "      <td>0</td>\n",
       "      <td>0</td>\n",
       "      <td>0</td>\n",
       "      <td>0</td>\n",
       "      <td>0</td>\n",
       "    </tr>\n",
       "    <tr>\n",
       "      <td>1</td>\n",
       "      <td>38</td>\n",
       "      <td>36.826150</td>\n",
       "      <td>101.44370</td>\n",
       "      <td>0</td>\n",
       "      <td>0</td>\n",
       "      <td>1</td>\n",
       "      <td>0</td>\n",
       "      <td>0</td>\n",
       "      <td>0</td>\n",
       "      <td>0</td>\n",
       "      <td>...</td>\n",
       "      <td>0</td>\n",
       "      <td>0</td>\n",
       "      <td>0</td>\n",
       "      <td>0</td>\n",
       "      <td>0</td>\n",
       "      <td>0</td>\n",
       "      <td>0</td>\n",
       "      <td>0</td>\n",
       "      <td>0</td>\n",
       "      <td>0</td>\n",
       "    </tr>\n",
       "    <tr>\n",
       "      <td>2</td>\n",
       "      <td>7</td>\n",
       "      <td>36.826150</td>\n",
       "      <td>101.44370</td>\n",
       "      <td>0</td>\n",
       "      <td>0</td>\n",
       "      <td>0</td>\n",
       "      <td>0</td>\n",
       "      <td>0</td>\n",
       "      <td>0</td>\n",
       "      <td>0</td>\n",
       "      <td>...</td>\n",
       "      <td>0</td>\n",
       "      <td>0</td>\n",
       "      <td>0</td>\n",
       "      <td>0</td>\n",
       "      <td>0</td>\n",
       "      <td>0</td>\n",
       "      <td>0</td>\n",
       "      <td>0</td>\n",
       "      <td>0</td>\n",
       "      <td>0</td>\n",
       "    </tr>\n",
       "    <tr>\n",
       "      <td>3</td>\n",
       "      <td>29</td>\n",
       "      <td>44.959710</td>\n",
       "      <td>10.68922</td>\n",
       "      <td>0</td>\n",
       "      <td>0</td>\n",
       "      <td>0</td>\n",
       "      <td>0</td>\n",
       "      <td>0</td>\n",
       "      <td>0</td>\n",
       "      <td>0</td>\n",
       "      <td>...</td>\n",
       "      <td>0</td>\n",
       "      <td>0</td>\n",
       "      <td>0</td>\n",
       "      <td>0</td>\n",
       "      <td>0</td>\n",
       "      <td>0</td>\n",
       "      <td>0</td>\n",
       "      <td>0</td>\n",
       "      <td>0</td>\n",
       "      <td>0</td>\n",
       "    </tr>\n",
       "    <tr>\n",
       "      <td>4</td>\n",
       "      <td>29</td>\n",
       "      <td>21.327397</td>\n",
       "      <td>105.63005</td>\n",
       "      <td>0</td>\n",
       "      <td>0</td>\n",
       "      <td>1</td>\n",
       "      <td>0</td>\n",
       "      <td>0</td>\n",
       "      <td>0</td>\n",
       "      <td>0</td>\n",
       "      <td>...</td>\n",
       "      <td>0</td>\n",
       "      <td>0</td>\n",
       "      <td>0</td>\n",
       "      <td>0</td>\n",
       "      <td>0</td>\n",
       "      <td>0</td>\n",
       "      <td>0</td>\n",
       "      <td>1</td>\n",
       "      <td>0</td>\n",
       "      <td>0</td>\n",
       "    </tr>\n",
       "  </tbody>\n",
       "</table>\n",
       "<p>5 rows × 30 columns</p>\n",
       "</div>"
      ],
      "text/plain": [
       "   age   latitude  longitude  chronic_disease_binary_N  \\\n",
       "0   42  36.826150  101.44370                         0   \n",
       "1   38  36.826150  101.44370                         0   \n",
       "2    7  36.826150  101.44370                         0   \n",
       "3   29  44.959710   10.68922                         0   \n",
       "4   29  21.327397  105.63005                         0   \n",
       "\n",
       "   chronic_disease_binary_Y  sex_female  country_Algeria  country_Australia  \\\n",
       "0                         0           0                0                  0   \n",
       "1                         0           1                0                  0   \n",
       "2                         0           0                0                  0   \n",
       "3                         0           0                0                  0   \n",
       "4                         0           1                0                  0   \n",
       "\n",
       "   country_Brazil  country_France  ...  country_Romania  country_San Marino  \\\n",
       "0               0               0  ...                0                   0   \n",
       "1               0               0  ...                0                   0   \n",
       "2               0               0  ...                0                   0   \n",
       "3               0               0  ...                0                   0   \n",
       "4               0               0  ...                0                   0   \n",
       "\n",
       "   country_Singapore  country_South Korea  country_Switzerland  \\\n",
       "0                  0                    0                    0   \n",
       "1                  0                    0                    0   \n",
       "2                  0                    0                    0   \n",
       "3                  0                    0                    0   \n",
       "4                  0                    0                    0   \n",
       "\n",
       "   country_Thailand  country_United States  country_Vietnam  country_Zimbabwe  \\\n",
       "0                 0                      0                0                 0   \n",
       "1                 0                      0                0                 0   \n",
       "2                 0                      0                0                 0   \n",
       "3                 0                      0                0                 0   \n",
       "4                 0                      0                1                 0   \n",
       "\n",
       "   outcome_D  \n",
       "0          0  \n",
       "1          0  \n",
       "2          0  \n",
       "3          0  \n",
       "4          0  \n",
       "\n",
       "[5 rows x 30 columns]"
      ]
     },
     "execution_count": 2,
     "metadata": {},
     "output_type": "execute_result"
    }
   ],
   "source": [
    "df = pd.read_csv('cleaned_covid2.csv',index_col=0)\n",
    "df = df.reset_index()\n",
    "df.drop('index',axis=1,inplace=True)\n",
    "df.head()"
   ]
  },
  {
   "cell_type": "code",
   "execution_count": 3,
   "metadata": {},
   "outputs": [
    {
     "data": {
      "text/plain": [
       "Index(['age', 'latitude', 'longitude', 'chronic_disease_binary_N',\n",
       "       'chronic_disease_binary_Y', 'sex_female', 'country_Algeria',\n",
       "       'country_Australia', 'country_Brazil', 'country_France',\n",
       "       'country_Gambia', 'country_Germany', 'country_Ghana', 'country_Guyana',\n",
       "       'country_Italy', 'country_Japan', 'country_Malaysia', 'country_Nepal',\n",
       "       'country_Niger', 'country_Philippines', 'country_Romania',\n",
       "       'country_San Marino', 'country_Singapore', 'country_South Korea',\n",
       "       'country_Switzerland', 'country_Thailand', 'country_United States',\n",
       "       'country_Vietnam', 'country_Zimbabwe', 'outcome_D'],\n",
       "      dtype='object')"
      ]
     },
     "execution_count": 3,
     "metadata": {},
     "output_type": "execute_result"
    }
   ],
   "source": [
    "df.columns"
   ]
  },
  {
   "cell_type": "code",
   "execution_count": 4,
   "metadata": {},
   "outputs": [],
   "source": [
    "df.describe().to_csv('data_desc.csv')"
   ]
  },
  {
   "cell_type": "code",
   "execution_count": 5,
   "metadata": {},
   "outputs": [],
   "source": [
    "#df.insert(len(df.columns),'Lat_Lon_Int',df.latitude* df.longitude)"
   ]
  },
  {
   "cell_type": "code",
   "execution_count": 6,
   "metadata": {},
   "outputs": [],
   "source": [
    "from sklearn.model_selection import KFold\n",
    "from sklearn.linear_model import LogisticRegression"
   ]
  },
  {
   "cell_type": "code",
   "execution_count": 7,
   "metadata": {},
   "outputs": [],
   "source": [
    "from sklearn import metrics\n",
    "import matplotlib.pyplot as plt"
   ]
  },
  {
   "cell_type": "code",
   "execution_count": 8,
   "metadata": {},
   "outputs": [
    {
     "name": "stdout",
     "output_type": "stream",
     "text": [
      "[[25.9  3.4]\n",
      " [ 3.4  8.6]]\n",
      "0.7171950851635212\n"
     ]
    }
   ],
   "source": [
    "y = df.outcome_D\n",
    "X = df.drop('outcome_D',axis=1)\n",
    "kf = KFold(n_splits=10)\n",
    "conf_matrix = []\n",
    "f1 = []\n",
    "auc = []\n",
    "for train, test in kf.split(df):\n",
    "    mod = LogisticRegression(solver='liblinear')\n",
    "    mod.fit(X.loc[train,:],y.loc[train])\n",
    "    pred = mod.predict(X.loc[test,:])\n",
    "    conf_matrix.append(metrics.confusion_matrix(y.loc[test],pred))\n",
    "    f1.append(metrics.f1_score(y.loc[test],pred))\n",
    "print(sum(conf_matrix)/10)\n",
    "print(sum(f1)/10)\n",
    "    "
   ]
  },
  {
   "cell_type": "code",
   "execution_count": 10,
   "metadata": {},
   "outputs": [
    {
     "data": {
      "text/plain": [
       "array([[ 0.06139003,  0.02006555, -0.00657607, -0.19183993,  1.5718792 ,\n",
       "        -0.44926095, -0.02269239, -0.26159082, -0.75362426, -0.2170538 ,\n",
       "         0.05650872, -0.57568776,  0.        ,  0.1624657 ,  0.16741324,\n",
       "        -0.44267694, -0.68781207, -0.25528558, -1.53422404, -0.17786953,\n",
       "        -0.75646648,  0.05965469, -2.33963372, -1.04836605, -0.5978587 ,\n",
       "        -0.42192484,  0.21386914, -2.12177148,  0.76259335]])"
      ]
     },
     "execution_count": 10,
     "metadata": {},
     "output_type": "execute_result"
    }
   ],
   "source": [
    "mod = LogisticRegression(solver='liblinear')\n",
    "mod.fit(X,y)\n",
    "mod.coef_"
   ]
  },
  {
   "cell_type": "code",
   "execution_count": 21,
   "metadata": {},
   "outputs": [
    {
     "data": {
      "text/html": [
       "<div>\n",
       "<style scoped>\n",
       "    .dataframe tbody tr th:only-of-type {\n",
       "        vertical-align: middle;\n",
       "    }\n",
       "\n",
       "    .dataframe tbody tr th {\n",
       "        vertical-align: top;\n",
       "    }\n",
       "\n",
       "    .dataframe thead th {\n",
       "        text-align: right;\n",
       "    }\n",
       "</style>\n",
       "<table border=\"1\" class=\"dataframe\">\n",
       "  <thead>\n",
       "    <tr style=\"text-align: right;\">\n",
       "      <th></th>\n",
       "      <th>age</th>\n",
       "      <th>latitude</th>\n",
       "      <th>longitude</th>\n",
       "      <th>chronic_disease_binary_N</th>\n",
       "      <th>chronic_disease_binary_Y</th>\n",
       "      <th>sex_female</th>\n",
       "      <th>country_Algeria</th>\n",
       "      <th>country_Australia</th>\n",
       "      <th>country_Brazil</th>\n",
       "      <th>country_France</th>\n",
       "      <th>...</th>\n",
       "      <th>country_Philippines</th>\n",
       "      <th>country_Romania</th>\n",
       "      <th>country_San Marino</th>\n",
       "      <th>country_Singapore</th>\n",
       "      <th>country_South Korea</th>\n",
       "      <th>country_Switzerland</th>\n",
       "      <th>country_Thailand</th>\n",
       "      <th>country_United States</th>\n",
       "      <th>country_Vietnam</th>\n",
       "      <th>country_Zimbabwe</th>\n",
       "    </tr>\n",
       "  </thead>\n",
       "  <tbody>\n",
       "    <tr>\n",
       "      <td>0</td>\n",
       "      <td>1.063314</td>\n",
       "      <td>1.020268</td>\n",
       "      <td>0.993446</td>\n",
       "      <td>0.825439</td>\n",
       "      <td>4.815689</td>\n",
       "      <td>0.6381</td>\n",
       "      <td>0.977563</td>\n",
       "      <td>0.769826</td>\n",
       "      <td>0.470658</td>\n",
       "      <td>0.804887</td>\n",
       "      <td>...</td>\n",
       "      <td>0.837052</td>\n",
       "      <td>0.469322</td>\n",
       "      <td>1.06147</td>\n",
       "      <td>0.096363</td>\n",
       "      <td>0.35051</td>\n",
       "      <td>0.549988</td>\n",
       "      <td>0.655783</td>\n",
       "      <td>1.238461</td>\n",
       "      <td>0.119819</td>\n",
       "      <td>2.143829</td>\n",
       "    </tr>\n",
       "  </tbody>\n",
       "</table>\n",
       "<p>1 rows × 29 columns</p>\n",
       "</div>"
      ],
      "text/plain": [
       "        age  latitude  longitude  chronic_disease_binary_N  \\\n",
       "0  1.063314  1.020268   0.993446                  0.825439   \n",
       "\n",
       "   chronic_disease_binary_Y  sex_female  country_Algeria  country_Australia  \\\n",
       "0                  4.815689      0.6381         0.977563           0.769826   \n",
       "\n",
       "   country_Brazil  country_France  ...  country_Philippines  country_Romania  \\\n",
       "0        0.470658        0.804887  ...             0.837052         0.469322   \n",
       "\n",
       "   country_San Marino  country_Singapore  country_South Korea  \\\n",
       "0             1.06147           0.096363              0.35051   \n",
       "\n",
       "   country_Switzerland  country_Thailand  country_United States  \\\n",
       "0             0.549988          0.655783               1.238461   \n",
       "\n",
       "   country_Vietnam  country_Zimbabwe  \n",
       "0         0.119819          2.143829  \n",
       "\n",
       "[1 rows x 29 columns]"
      ]
     },
     "execution_count": 21,
     "metadata": {},
     "output_type": "execute_result"
    }
   ],
   "source": [
    "odds_ratios = pd.DataFrame.from_records(np.exp(mod.coef_))\n",
    "odds_ratios.columns = X.columns\n",
    "odds_ratios"
   ]
  },
  {
   "cell_type": "code",
   "execution_count": 94,
   "metadata": {},
   "outputs": [],
   "source": [
    "odds_ratios = pd.DataFrame.from_records(np.exp(mod.coef_))\n",
    "odds_ratios.columns = X.columns\n",
    "odds_ratios.to_csv('Odds_Ratio_Bar_plots.csv')"
   ]
  },
  {
   "cell_type": "code",
   "execution_count": 12,
   "metadata": {},
   "outputs": [],
   "source": [
    "import numpy as np"
   ]
  },
  {
   "cell_type": "code",
   "execution_count": 61,
   "metadata": {},
   "outputs": [],
   "source": [
    "import seaborn as sns"
   ]
  },
  {
   "cell_type": "code",
   "execution_count": null,
   "metadata": {},
   "outputs": [],
   "source": []
  }
 ],
 "metadata": {
  "kernelspec": {
   "display_name": "Python 3",
   "language": "python",
   "name": "python3"
  },
  "language_info": {
   "codemirror_mode": {
    "name": "ipython",
    "version": 3
   },
   "file_extension": ".py",
   "mimetype": "text/x-python",
   "name": "python",
   "nbconvert_exporter": "python",
   "pygments_lexer": "ipython3",
   "version": "3.7.4"
  }
 },
 "nbformat": 4,
 "nbformat_minor": 4
}
