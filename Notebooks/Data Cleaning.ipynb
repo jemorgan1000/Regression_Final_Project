{
 "cells": [
  {
   "cell_type": "markdown",
   "metadata": {},
   "source": [
    "# Data Cleaning for Hubei Data"
   ]
  },
  {
   "cell_type": "code",
   "execution_count": 22,
   "metadata": {},
   "outputs": [],
   "source": [
    "import pandas as pd\n",
    "import numpy as np\n",
    "from sklearn.linear_model import LogisticRegression\n",
    "from sklearn.model_selection import train_test_split\n",
    "from sklearn import metrics\n",
    "from sklearn.metrics import confusion_matrix\n",
    "import os.path as osp\n",
    "import os"
   ]
  },
  {
   "cell_type": "code",
   "execution_count": 30,
   "metadata": {},
   "outputs": [
    {
     "data": {
      "text/plain": [
       "'/Users/joshuamorgan/Documents/CourseWork/Spring20/Regression/Regression_Final_Project'"
      ]
     },
     "execution_count": 30,
     "metadata": {},
     "output_type": "execute_result"
    }
   ],
   "source": [
    "cur_dir = osp.dirname(osp.abspath(osp.dirname(\"__file__\")))\n",
    "data_path = osp.join(cur_dir,'Data')\n",
    "cov_path = osp.join(data_path,'covid.csv')"
   ]
  },
  {
   "cell_type": "code",
   "execution_count": 33,
   "metadata": {},
   "outputs": [],
   "source": [
    "def analyze(data):\n",
    "    \n",
    "    ## initialize predictor and predicted variable\n",
    "    xcol = ['age', 'latitude', 'longitude', 'sex_female', 'country_Algeria', 'country_Australia', 'country_Brazil', 'country_France', 'country_Gambia', 'country_Germany', 'country_Ghana', 'country_Guyana', 'country_Italy', 'country_Japan', 'country_Malaysia', 'country_Nepal', 'country_Niger', 'country_Philippines', 'country_Romania', 'country_San Marino', 'country_Singapore', 'country_South Korea', 'country_Switzerland', 'country_Thailand', 'country_United States', 'country_Vietnam', 'country_Zimbabwe']\n",
    "    x = data[xcol]\n",
    "    y = data['outcome_D']\n",
    "    \n",
    "    ## split into testing and training data\n",
    "    xtrain, xtest, ytrain, ytest  = train_test_split(x,y,test_size=.25)\n",
    "    \n",
    "    ## build logisitic regression from training data\n",
    "    logit = LogisticRegression()\n",
    "    logit.fit(xtrain,ytrain)\n",
    "    \n",
    "    ## evaluate on testing data\n",
    "    ypred = logit.predict(xtest)\n",
    "    print('Accuracy of logistic regression classifier on test set: {:.2f}'.format(logit.score(xtest, ytest)))\n",
    "    \n",
    "    ## confusion matrix\n",
    "    cm = confusion_matrix(ytest, ypred)\n",
    "    print(cm)\n",
    "    \n",
    "    ## get coefficients\n",
    "    coeff = pd.DataFrame({\"Feature\":x.columns,\"Coefficients\":np.transpose(logit.coef_[0])})\n",
    "    print(coeff)\n",
    "    \n",
    "    return "
   ]
  },
  {
   "cell_type": "code",
   "execution_count": 37,
   "metadata": {},
   "outputs": [],
   "source": [
    "def preprocess(data):\n",
    "    \n",
    "    ## restrict starting columns\n",
    "    new_cols = ['age','sex','country','latitude','longitude','outcome']\n",
    "    df = data[new_cols]\n",
    "    df = df.dropna()\n",
    "\n",
    "    ## clean age column\n",
    "    counts = []\n",
    "    for i,age in enumerate(df['age']):\n",
    "        try:\n",
    "            int(age)\n",
    "            counts.append(age)\n",
    "        except ValueError:\n",
    "            continue\n",
    "            \n",
    "    df = df[(df['age'].isin(counts))]\n",
    "    df['age'] = df['age'].astype(int)\n",
    "    \n",
    "    ## clean outcome column\n",
    "    df['outcome'] = df['outcome'].apply(lambda x: adjust_outcome(x))\n",
    "    \n",
    "    ## encode categorical variables\n",
    "    cat = ['sex','country','outcome']\n",
    "    df = pd.get_dummies(df,columns=cat)\n",
    "    \n",
    "    ## drop reference cases\n",
    "    ## sex reference case: male, 291 cases\n",
    "    ## country refernce case: China, 136 cases\n",
    "    ## outcome reference case: Survive episode, 289 cases\n",
    "    rcs = ['sex_male','country_China']\n",
    "    df = df.drop('sex_male',1)\n",
    "    df = df.drop('country_China',1)\n",
    "    df = df.drop('outcome_S',1)\n",
    "   \n",
    "    ## clean out in progress cases\n",
    "    df = df[df['outcome_IP'] != 1]\n",
    "    df = df.drop('outcome_IP',1)\n",
    "    \n",
    "    return df"
   ]
  },
  {
   "cell_type": "code",
   "execution_count": 38,
   "metadata": {},
   "outputs": [],
   "source": [
    "def adjust_outcome(outcome):\n",
    "    dead = ['death','died','Dead','Deceased','Died']\n",
    "    IP = ['stable','Under treatment','Stable']\n",
    "    lived = ['discharged','discharge','released from quarantine',\n",
    "             'Discharged','recovered','Alive','Recovered']\n",
    "    \n",
    "    if outcome in dead:\n",
    "        return 'D'\n",
    "    if outcome in IP:\n",
    "        return 'IP'\n",
    "    if outcome in lived:\n",
    "        return 'S'"
   ]
  },
  {
   "cell_type": "code",
   "execution_count": 39,
   "metadata": {
    "collapsed": true,
    "jupyter": {
     "outputs_hidden": true
    }
   },
   "outputs": [
    {
     "name": "stdout",
     "output_type": "stream",
     "text": [
      "Accuracy of logistic regression classifier on test set: 0.90\n",
      "[[62  9]\n",
      " [ 1 32]]\n",
      "                  Feature  Coefficients\n",
      "0                     age      0.071126\n",
      "1                latitude      0.019066\n",
      "2               longitude     -0.008999\n",
      "3              sex_female     -0.567296\n",
      "4         country_Algeria      0.311353\n",
      "5       country_Australia     -0.433529\n",
      "6          country_Brazil     -0.980979\n",
      "7          country_France     -0.501097\n",
      "8          country_Gambia      0.121299\n",
      "9         country_Germany      0.000000\n",
      "10          country_Ghana      0.000000\n",
      "11         country_Guyana      0.356927\n",
      "12          country_Italy     -0.119891\n",
      "13          country_Japan     -0.459835\n",
      "14       country_Malaysia     -0.579448\n",
      "15          country_Nepal     -0.280341\n",
      "16          country_Niger     -1.631355\n",
      "17    country_Philippines      0.569287\n",
      "18        country_Romania     -0.855956\n",
      "19     country_San Marino      0.029325\n",
      "20      country_Singapore     -2.403465\n",
      "21    country_South Korea     -1.053825\n",
      "22    country_Switzerland     -0.554177\n",
      "23       country_Thailand     -0.508905\n",
      "24  country_United States      0.059285\n",
      "25        country_Vietnam     -1.495844\n",
      "26       country_Zimbabwe      0.776055\n"
     ]
    },
    {
     "name": "stderr",
     "output_type": "stream",
     "text": [
      "/Users/joshuamorgan/anaconda3/lib/python3.7/site-packages/sklearn/linear_model/logistic.py:432: FutureWarning: Default solver will be changed to 'lbfgs' in 0.22. Specify a solver to silence this warning.\n",
      "  FutureWarning)\n"
     ]
    }
   ],
   "source": [
    "\n",
    "def main(path):\n",
    "    data = pd.read_csv(path)\n",
    "    data = preprocess(data)\n",
    "    data.to_csv('cleaned_covid.csv')\n",
    "    analyze(data)\n",
    "\n",
    "main(cov_path)"
   ]
  },
  {
   "cell_type": "code",
   "execution_count": null,
   "metadata": {},
   "outputs": [],
   "source": []
  },
  {
   "cell_type": "code",
   "execution_count": null,
   "metadata": {},
   "outputs": [],
   "source": []
  }
 ],
 "metadata": {
  "kernelspec": {
   "display_name": "Python 3",
   "language": "python",
   "name": "python3"
  },
  "language_info": {
   "codemirror_mode": {
    "name": "ipython",
    "version": 3
   },
   "file_extension": ".py",
   "mimetype": "text/x-python",
   "name": "python",
   "nbconvert_exporter": "python",
   "pygments_lexer": "ipython3",
   "version": "3.7.4"
  }
 },
 "nbformat": 4,
 "nbformat_minor": 4
}
